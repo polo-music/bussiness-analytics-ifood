{
  "nbformat": 4,
  "nbformat_minor": 0,
  "metadata": {
    "colab": {
      "name": "bussiness-analytics-ifood.ipynb",
      "provenance": [],
      "collapsed_sections": [],
      "authorship_tag": "ABX9TyNQjWR499KShZnW5VLCI48Y",
      "include_colab_link": true
    },
    "kernelspec": {
      "name": "ir",
      "display_name": "R"
    },
    "language_info": {
      "name": "R"
    }
  },
  "cells": [
    {
      "cell_type": "markdown",
      "metadata": {
        "id": "view-in-github",
        "colab_type": "text"
      },
      "source": [
        "<a href=\"https://colab.research.google.com/github/polo-music/bussiness-analytics-ifood/blob/main/bussiness_analytics_ifood.ipynb\" target=\"_parent\"><img src=\"https://colab.research.google.com/assets/colab-badge.svg\" alt=\"Open In Colab\"/></a>"
      ]
    },
    {
      "cell_type": "markdown",
      "source": [
        "## Bussiness analytics - iFood Company\n",
        "This dataset is given by the iFood Company, the largest food delivery company in Brasil, in order to add a new bussiness analytics expert in its team. The basic idea is to do some exploratori data analysis on the dataset to show the pertinent skills of bussiness and model analysis."
      ],
      "metadata": {
        "id": "WCn4dkbq9Fod"
      }
    },
    {
      "cell_type": "code",
      "source": [
        "library(tidyverse)\n",
        "\n",
        "# We load the public dataset from GitHub\n",
        "df <- read.csv('https://raw.githubusercontent.com/nailson/ifood-data-business-analyst-test/master/ifood_df.csv')"
      ],
      "metadata": {
        "id": "yvVmC-jB9kT7"
      },
      "execution_count": null,
      "outputs": []
    },
    {
      "cell_type": "code",
      "source": [
        "# We can start with the information of the dataset\n",
        "glimpse(df)"
      ],
      "metadata": {
        "colab": {
          "base_uri": "https://localhost:8080/"
        },
        "id": "vhTj9qqX-BV3",
        "outputId": "4ba66626-26e1-40a7-c7df-cf2980c7ac13"
      },
      "execution_count": 9,
      "outputs": [
        {
          "output_type": "stream",
          "name": "stdout",
          "text": [
            "Rows: 2,205\n",
            "Columns: 39\n",
            "$ Income               \u001b[3m\u001b[90m<dbl>\u001b[39m\u001b[23m 58138, 46344, 71613, 26646, 58293, 62513, 55635, …\n",
            "$ Kidhome              \u001b[3m\u001b[90m<int>\u001b[39m\u001b[23m 0, 1, 0, 1, 1, 0, 0, 1, 1, 1, 0, 0, 1, 0, 0, 1, 0…\n",
            "$ Teenhome             \u001b[3m\u001b[90m<int>\u001b[39m\u001b[23m 0, 1, 0, 0, 0, 1, 1, 0, 0, 1, 0, 0, 1, 0, 0, 1, 0…\n",
            "$ Recency              \u001b[3m\u001b[90m<int>\u001b[39m\u001b[23m 58, 38, 26, 26, 94, 16, 34, 32, 19, 68, 59, 82, 5…\n",
            "$ MntWines             \u001b[3m\u001b[90m<int>\u001b[39m\u001b[23m 635, 11, 426, 11, 173, 520, 235, 76, 14, 28, 6, 1…\n",
            "$ MntFruits            \u001b[3m\u001b[90m<int>\u001b[39m\u001b[23m 88, 1, 49, 4, 43, 42, 65, 10, 0, 0, 16, 61, 2, 14…\n",
            "$ MntMeatProducts      \u001b[3m\u001b[90m<int>\u001b[39m\u001b[23m 546, 6, 127, 20, 118, 98, 164, 56, 24, 6, 11, 480…\n",
            "$ MntFishProducts      \u001b[3m\u001b[90m<int>\u001b[39m\u001b[23m 172, 2, 111, 10, 46, 0, 50, 3, 3, 1, 11, 225, 3, …\n",
            "$ MntSweetProducts     \u001b[3m\u001b[90m<int>\u001b[39m\u001b[23m 88, 1, 21, 3, 27, 42, 49, 1, 3, 1, 1, 112, 5, 1, …\n",
            "$ MntGoldProds         \u001b[3m\u001b[90m<int>\u001b[39m\u001b[23m 88, 6, 42, 5, 15, 14, 27, 23, 2, 13, 16, 30, 14, …\n",
            "$ NumDealsPurchases    \u001b[3m\u001b[90m<int>\u001b[39m\u001b[23m 3, 2, 1, 2, 5, 2, 4, 2, 1, 1, 1, 1, 3, 1, 1, 3, 2…\n",
            "$ NumWebPurchases      \u001b[3m\u001b[90m<int>\u001b[39m\u001b[23m 8, 1, 8, 2, 5, 6, 7, 4, 3, 1, 2, 3, 6, 1, 7, 3, 4…\n",
            "$ NumCatalogPurchases  \u001b[3m\u001b[90m<int>\u001b[39m\u001b[23m 10, 1, 2, 0, 3, 4, 3, 0, 0, 0, 0, 4, 1, 0, 6, 0, …\n",
            "$ NumStorePurchases    \u001b[3m\u001b[90m<int>\u001b[39m\u001b[23m 4, 2, 10, 4, 6, 10, 7, 4, 2, 0, 3, 8, 5, 3, 12, 3…\n",
            "$ NumWebVisitsMonth    \u001b[3m\u001b[90m<int>\u001b[39m\u001b[23m 7, 5, 4, 6, 5, 6, 6, 8, 9, 20, 8, 2, 6, 8, 3, 8, …\n",
            "$ AcceptedCmp3         \u001b[3m\u001b[90m<int>\u001b[39m\u001b[23m 0, 0, 0, 0, 0, 0, 0, 0, 0, 1, 0, 0, 0, 0, 0, 0, 0…\n",
            "$ AcceptedCmp4         \u001b[3m\u001b[90m<int>\u001b[39m\u001b[23m 0, 0, 0, 0, 0, 0, 0, 0, 0, 0, 0, 0, 0, 0, 0, 0, 0…\n",
            "$ AcceptedCmp5         \u001b[3m\u001b[90m<int>\u001b[39m\u001b[23m 0, 0, 0, 0, 0, 0, 0, 0, 0, 0, 0, 0, 0, 0, 1, 0, 0…\n",
            "$ AcceptedCmp1         \u001b[3m\u001b[90m<int>\u001b[39m\u001b[23m 0, 0, 0, 0, 0, 0, 0, 0, 0, 0, 0, 0, 0, 0, 1, 0, 0…\n",
            "$ AcceptedCmp2         \u001b[3m\u001b[90m<int>\u001b[39m\u001b[23m 0, 0, 0, 0, 0, 0, 0, 0, 0, 0, 0, 0, 0, 0, 0, 0, 0…\n",
            "$ Complain             \u001b[3m\u001b[90m<int>\u001b[39m\u001b[23m 0, 0, 0, 0, 0, 0, 0, 0, 0, 0, 0, 0, 0, 0, 0, 0, 0…\n",
            "$ Z_CostContact        \u001b[3m\u001b[90m<int>\u001b[39m\u001b[23m 3, 3, 3, 3, 3, 3, 3, 3, 3, 3, 3, 3, 3, 3, 3, 3, 3…\n",
            "$ Z_Revenue            \u001b[3m\u001b[90m<int>\u001b[39m\u001b[23m 11, 11, 11, 11, 11, 11, 11, 11, 11, 11, 11, 11, 1…\n",
            "$ Response             \u001b[3m\u001b[90m<int>\u001b[39m\u001b[23m 1, 0, 0, 0, 0, 0, 0, 0, 1, 0, 0, 0, 0, 0, 1, 0, 0…\n",
            "$ Age                  \u001b[3m\u001b[90m<int>\u001b[39m\u001b[23m 63, 66, 55, 36, 39, 53, 49, 35, 46, 70, 44, 61, 6…\n",
            "$ Customer_Days        \u001b[3m\u001b[90m<int>\u001b[39m\u001b[23m 2822, 2272, 2471, 2298, 2320, 2452, 2752, 2576, 2…\n",
            "$ marital_Divorced     \u001b[3m\u001b[90m<int>\u001b[39m\u001b[23m 0, 0, 0, 0, 0, 0, 1, 0, 0, 0, 0, 1, 1, 0, 0, 0, 0…\n",
            "$ marital_Married      \u001b[3m\u001b[90m<int>\u001b[39m\u001b[23m 0, 0, 0, 0, 1, 0, 0, 1, 0, 0, 1, 0, 0, 1, 0, 1, 0…\n",
            "$ marital_Single       \u001b[3m\u001b[90m<int>\u001b[39m\u001b[23m 1, 1, 0, 0, 0, 0, 0, 0, 0, 0, 0, 0, 0, 0, 1, 0, 0…\n",
            "$ marital_Together     \u001b[3m\u001b[90m<int>\u001b[39m\u001b[23m 0, 0, 1, 1, 0, 1, 0, 0, 1, 1, 0, 0, 0, 0, 0, 0, 1…\n",
            "$ marital_Widow        \u001b[3m\u001b[90m<int>\u001b[39m\u001b[23m 0, 0, 0, 0, 0, 0, 0, 0, 0, 0, 0, 0, 0, 0, 0, 0, 0…\n",
            "$ education_2n.Cycle   \u001b[3m\u001b[90m<int>\u001b[39m\u001b[23m 0, 0, 0, 0, 0, 0, 0, 0, 0, 0, 0, 0, 0, 0, 0, 0, 0…\n",
            "$ education_Basic      \u001b[3m\u001b[90m<int>\u001b[39m\u001b[23m 0, 0, 0, 0, 0, 0, 0, 0, 0, 0, 1, 0, 0, 0, 0, 0, 0…\n",
            "$ education_Graduation \u001b[3m\u001b[90m<int>\u001b[39m\u001b[23m 1, 1, 1, 1, 0, 0, 1, 0, 0, 0, 0, 1, 0, 1, 0, 1, 1…\n",
            "$ education_Master     \u001b[3m\u001b[90m<int>\u001b[39m\u001b[23m 0, 0, 0, 0, 0, 1, 0, 0, 0, 0, 0, 0, 1, 0, 0, 0, 0…\n",
            "$ education_PhD        \u001b[3m\u001b[90m<int>\u001b[39m\u001b[23m 0, 0, 0, 0, 1, 0, 0, 1, 1, 1, 0, 0, 0, 0, 1, 0, 0…\n",
            "$ MntTotal             \u001b[3m\u001b[90m<int>\u001b[39m\u001b[23m 1529, 21, 734, 48, 407, 702, 563, 146, 44, 36, 45…\n",
            "$ MntRegularProds      \u001b[3m\u001b[90m<int>\u001b[39m\u001b[23m 1441, 15, 692, 43, 392, 688, 536, 123, 42, 23, 29…\n",
            "$ AcceptedCmpOverall   \u001b[3m\u001b[90m<int>\u001b[39m\u001b[23m 0, 0, 0, 0, 0, 0, 0, 0, 0, 1, 0, 0, 0, 0, 2, 0, 0…\n"
          ]
        }
      ]
    },
    {
      "cell_type": "markdown",
      "source": [
        "As we can see, there are some variables that should be grouped as factors (p.e. marital status, education level or accepted campagne), these are the categorical variables. To do so, we will create different factor vectors and apply the factorization of the variables.\n",
        "\n",
        "\n"
      ],
      "metadata": {
        "id": "6dGusKmUGNMa"
      }
    },
    {
      "cell_type": "code",
      "source": [
        "# Create the education vector\n",
        "education_vector <- c('Basic', '2n Cycle', 'Graduation', 'Master', 'PhD')\n",
        "# Convert the vector to factor\n",
        "education_factor_vector <- factor(education_vector, levels = education_vector)\n",
        "\n",
        "# Create the marital vector\n",
        "marital_vector <- c('Single', 'Together', 'Divorced', 'Married', 'Widow')\n",
        "# Convert the vector to factor\n",
        "marital_factor_vector <- factor(marital_vector, levels = marital_vector)\n",
        "\n",
        "https://github.com/nailson/ifood-data-business-analyst-test/blob/master/exploration_segmentation.ipynb"
      ],
      "metadata": {
        "colab": {
          "base_uri": "https://localhost:8080/",
          "height": 69
        },
        "id": "wCmzHsQ0Ir41",
        "outputId": "04b31ed1-a6ca-420d-f992-8663eb7471ce"
      },
      "execution_count": 27,
      "outputs": [
        {
          "output_type": "display_data",
          "data": {
            "text/html": [
              "<style>\n",
              ".list-inline {list-style: none; margin:0; padding: 0}\n",
              ".list-inline>li {display: inline-block}\n",
              ".list-inline>li:not(:last-child)::after {content: \"\\00b7\"; padding: 0 .5ex}\n",
              "</style>\n",
              "<ol class=list-inline><li>Single</li><li>Together</li><li>Divorced</li><li>Married</li><li>Widow</li></ol>\n",
              "\n",
              "<details>\n",
              "\t<summary style=display:list-item;cursor:pointer>\n",
              "\t\t<strong>Levels</strong>:\n",
              "\t</summary>\n",
              "\t<style>\n",
              "\t.list-inline {list-style: none; margin:0; padding: 0}\n",
              "\t.list-inline>li {display: inline-block}\n",
              "\t.list-inline>li:not(:last-child)::after {content: \"\\00b7\"; padding: 0 .5ex}\n",
              "\t</style>\n",
              "\t<ol class=list-inline><li>'Single'</li><li>'Together'</li><li>'Divorced'</li><li>'Married'</li><li>'Widow'</li></ol>\n",
              "</details>"
            ],
            "text/markdown": "1. Single\n2. Together\n3. Divorced\n4. Married\n5. Widow\n\n\n\n**Levels**: 1. 'Single'\n2. 'Together'\n3. 'Divorced'\n4. 'Married'\n5. 'Widow'\n\n\n",
            "text/latex": "\\begin{enumerate*}\n\\item Single\n\\item Together\n\\item Divorced\n\\item Married\n\\item Widow\n\\end{enumerate*}\n\n\\emph{Levels}: \\begin{enumerate*}\n\\item 'Single'\n\\item 'Together'\n\\item 'Divorced'\n\\item 'Married'\n\\item 'Widow'\n\\end{enumerate*}\n",
            "text/plain": [
              "[1] Single   Together Divorced Married  Widow   \n",
              "Levels: Single Together Divorced Married Widow"
            ]
          },
          "metadata": {}
        }
      ]
    }
  ]
}